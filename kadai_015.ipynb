{
  "nbformat": 4,
  "nbformat_minor": 0,
  "metadata": {
    "colab": {
      "provenance": [],
      "authorship_tag": "ABX9TyOddk5pD0aFARcY+yNey3Rw",
      "include_colab_link": true
    },
    "kernelspec": {
      "name": "python3",
      "display_name": "Python 3"
    },
    "language_info": {
      "name": "python"
    }
  },
  "cells": [
    {
      "cell_type": "markdown",
      "metadata": {
        "id": "view-in-github",
        "colab_type": "text"
      },
      "source": [
        "<a href=\"https://colab.research.google.com/github/kohinata0626/python-basic-kadai/blob/main/kadai_015.ipynb\" target=\"_parent\"><img src=\"https://colab.research.google.com/assets/colab-badge.svg\" alt=\"Open In Colab\"/></a>"
      ]
    },
    {
      "cell_type": "code",
      "execution_count": 1,
      "metadata": {
        "colab": {
          "base_uri": "https://localhost:8080/"
        },
        "id": "meSQlkp6X1jV",
        "outputId": "12a27bfc-f8c0-44fe-f8f4-e523ba90a937"
      },
      "outputs": [
        {
          "output_type": "stream",
          "name": "stdout",
          "text": [
            "星街さんは大人ではありません\n",
            "さくらさんは大人ではありません\n",
            "兎田さんは大人です\n"
          ]
        }
      ],
      "source": [
        "from typing_extensions import AsyncGenerator\n",
        "class Human:\n",
        "  def __init__(self,name,age):\n",
        "    self.name = name\n",
        "    self.age = age\n",
        "  def check_adult(self):\n",
        "    if 20 <= self.age:\n",
        "      print(self.name+\"さんは大人です\")\n",
        "    else:\n",
        "      print(self.name+\"さんは大人ではありません\")\n",
        "\n",
        "human1 = Human(\"星街\",18.6)\n",
        "human2 = Human(\"さくら\",18.6)\n",
        "human3 = Human(\"兎田\",111)\n",
        "\n",
        "humanlist = [human1,human2,human3]\n",
        "for i in humanlist:\n",
        "  i.check_adult()"
      ]
    }
  ]
}